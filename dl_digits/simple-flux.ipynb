{
 "cells": [
  {
   "cell_type": "markdown",
   "id": "a703f438",
   "metadata": {},
   "source": [
    "# Super simple Flux example with `train!`"
   ]
  },
  {
   "cell_type": "code",
   "execution_count": 1,
   "id": "af85e181",
   "metadata": {},
   "outputs": [
    {
     "name": "stdout",
     "output_type": "stream",
     "text": [
      "Weight: Float32[7.981972;;]\n",
      "Bias: Float32[2.189183]\n"
     ]
    }
   ],
   "source": [
    "using Flux\n",
    "\n",
    "# Define a simple linear model\n",
    "model = Dense(1, 1)\n",
    "\n",
    "# Define the loss function (mean squared error)\n",
    "loss(m, x, y) = Flux.Losses.mse(m(x), y)\n",
    "\n",
    "# Create some training data (x inputs and y targets)\n",
    "x_train = Float32[0, 1, 2, 3, 4, 5]\n",
    "y_train = 4f0 .* x_train .+ 2f0  # y = 4x + 2\n",
    "\n",
    "# Prepare data as tuples\n",
    "data = [(x_train', y_train')]\n",
    "\n",
    "# Choose an optimizer\n",
    "opt = Descent(0.1)\n",
    "\n",
    "# Train the model for one epoch using train!\n",
    "Flux.train!(loss, model, data, opt)\n",
    "\n",
    "# After training, the model parameters should be closer to the true function\n",
    "println(\"Weight: \", model.weight)\n",
    "println(\"Bias: \", model.bias)\n"
   ]
  },
  {
   "cell_type": "code",
   "execution_count": 2,
   "id": "1c97c112",
   "metadata": {},
   "outputs": [
    {
     "data": {
      "text/plain": [
       "1-element Vector{Tuple{LinearAlgebra.Adjoint{Float32, Vector{Float32}}, LinearAlgebra.Adjoint{Float32, Vector{Float32}}}}:\n",
       " ([0.0 1.0 … 4.0 5.0], [2.0 6.0 … 18.0 22.0])"
      ]
     },
     "metadata": {},
     "output_type": "display_data"
    }
   ],
   "source": [
    "data"
   ]
  },
  {
   "cell_type": "code",
   "execution_count": 3,
   "id": "6c46004f",
   "metadata": {},
   "outputs": [
    {
     "name": "stdout",
     "output_type": "stream",
     "text": [
      "Weight: Float32[0.5870981;;]\n",
      "Bias: Float32[0.1603601]\n"
     ]
    }
   ],
   "source": [
    "Flux.train!(loss, model, data, opt)\n",
    "\n",
    "# After training, the model parameters should be closer to the true function\n",
    "println(\"Weight: \", model.weight)\n",
    "println(\"Bias: \", model.bias)"
   ]
  },
  {
   "cell_type": "code",
   "execution_count": 4,
   "id": "434f1231",
   "metadata": {},
   "outputs": [
    {
     "name": "stdout",
     "output_type": "stream",
     "text": [
      "Weight: Float32[7.7639055;;]\n",
      "Bias: Float32[2.234739]\n"
     ]
    }
   ],
   "source": [
    "Flux.train!(loss, model, data, opt)\n",
    "\n",
    "# After training, the model parameters should be closer to the true function\n",
    "println(\"Weight: \", model.weight)\n",
    "println(\"Bias: \", model.bias)"
   ]
  },
  {
   "cell_type": "code",
   "execution_count": 5,
   "id": "99b090a2",
   "metadata": {},
   "outputs": [
    {
     "name": "stdout",
     "output_type": "stream",
     "text": [
      "Weight: Float32[0.7460437;;]\n",
      "Bias: Float32[0.30583847]\n"
     ]
    }
   ],
   "source": [
    "Flux.train!(loss, model, data, opt)\n",
    "\n",
    "# After training, the model parameters should be closer to the true function\n",
    "println(\"Weight: \", model.weight)\n",
    "println(\"Bias: \", model.bias)"
   ]
  },
  {
   "cell_type": "code",
   "execution_count": null,
   "id": "dfb7fd91",
   "metadata": {},
   "outputs": [],
   "source": []
  }
 ],
 "metadata": {
  "kernelspec": {
   "display_name": "Julia 1.11.5",
   "language": "julia",
   "name": "julia-1.11"
  },
  "language_info": {
   "file_extension": ".jl",
   "mimetype": "application/julia",
   "name": "julia",
   "version": "1.11.5"
  }
 },
 "nbformat": 4,
 "nbformat_minor": 5
}
