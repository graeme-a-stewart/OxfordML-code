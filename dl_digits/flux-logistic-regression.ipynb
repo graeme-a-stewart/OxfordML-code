{
 "cells": [
  {
   "cell_type": "markdown",
   "id": "a2a257bb",
   "metadata": {},
   "source": [
    "# Logistic Regression Example in Flux\n",
    "\n",
    "Based on [this tutorial](https://fluxml.ai/Flux.jl/stable/tutorials/logistic_regression/)"
   ]
  },
  {
   "cell_type": "code",
   "execution_count": 1,
   "id": "250ea2a6",
   "metadata": {},
   "outputs": [],
   "source": [
    "using Flux, Statistics, MLDatasets, DataFrames, OneHotArrays"
   ]
  },
  {
   "cell_type": "code",
   "execution_count": 2,
   "id": "493a6bed",
   "metadata": {},
   "outputs": [
    {
     "data": {
      "text/plain": [
       "dataset Iris:\n",
       "  metadata   =>    Dict{String, Any} with 4 entries\n",
       "  features   =>    150×4 DataFrame\n",
       "  targets    =>    150×1 DataFrame\n",
       "  dataframe  =>    150×5 DataFrame"
      ]
     },
     "metadata": {},
     "output_type": "display_data"
    }
   ],
   "source": [
    "Iris()"
   ]
  },
  {
   "cell_type": "code",
   "execution_count": 3,
   "id": "e157701f",
   "metadata": {},
   "outputs": [],
   "source": [
    "x, y = Iris(as_df=false)[:];"
   ]
  },
  {
   "cell_type": "code",
   "execution_count": 4,
   "id": "619f1b82",
   "metadata": {},
   "outputs": [
    {
     "data": {
      "text/plain": [
       "1×150 Matrix{InlineStrings.String15}:\n",
       " \"Iris-setosa\"  \"Iris-setosa\"  …  \"Iris-virginica\"  \"Iris-virginica\""
      ]
     },
     "metadata": {},
     "output_type": "display_data"
    }
   ],
   "source": [
    "y"
   ]
  },
  {
   "cell_type": "code",
   "execution_count": 5,
   "id": "56da64aa",
   "metadata": {},
   "outputs": [
    {
     "data": {
      "text/plain": [
       "\"4×150 Matrix{Float64}\""
      ]
     },
     "metadata": {},
     "output_type": "display_data"
    }
   ],
   "source": [
    "x |> summary"
   ]
  },
  {
   "cell_type": "code",
   "execution_count": 6,
   "id": "9381b7d4",
   "metadata": {},
   "outputs": [
    {
     "data": {
      "text/plain": [
       "4-element Vector{Float64}:\n",
       " 4.6\n",
       " 3.6\n",
       " 1.0\n",
       " 0.2"
      ]
     },
     "metadata": {},
     "output_type": "display_data"
    }
   ],
   "source": [
    "x[:,23]"
   ]
  },
  {
   "cell_type": "code",
   "execution_count": 7,
   "id": "639631bb",
   "metadata": {},
   "outputs": [],
   "source": [
    "x = Float32.(x);"
   ]
  },
  {
   "cell_type": "code",
   "execution_count": 8,
   "id": "3c590fa0",
   "metadata": {},
   "outputs": [],
   "source": [
    "y = vec(y);"
   ]
  },
  {
   "cell_type": "code",
   "execution_count": 9,
   "id": "b01794c1",
   "metadata": {},
   "outputs": [
    {
     "data": {
      "text/plain": [
       "150-element Vector{InlineStrings.String15}:\n",
       " \"Iris-setosa\"\n",
       " \"Iris-setosa\"\n",
       " \"Iris-setosa\"\n",
       " \"Iris-setosa\"\n",
       " \"Iris-setosa\"\n",
       " \"Iris-setosa\"\n",
       " \"Iris-setosa\"\n",
       " \"Iris-setosa\"\n",
       " \"Iris-setosa\"\n",
       " \"Iris-setosa\"\n",
       " ⋮\n",
       " \"Iris-virginica\"\n",
       " \"Iris-virginica\"\n",
       " \"Iris-virginica\"\n",
       " \"Iris-virginica\"\n",
       " \"Iris-virginica\"\n",
       " \"Iris-virginica\"\n",
       " \"Iris-virginica\"\n",
       " \"Iris-virginica\"\n",
       " \"Iris-virginica\""
      ]
     },
     "metadata": {},
     "output_type": "display_data"
    }
   ],
   "source": [
    "y"
   ]
  },
  {
   "cell_type": "code",
   "execution_count": 10,
   "id": "e4150d86",
   "metadata": {},
   "outputs": [
    {
     "data": {
      "text/plain": [
       "3-element Vector{InlineStrings.String15}:\n",
       " \"Iris-setosa\"\n",
       " \"Iris-versicolor\"\n",
       " \"Iris-virginica\""
      ]
     },
     "metadata": {},
     "output_type": "display_data"
    }
   ],
   "source": [
    "const classes = unique(y)"
   ]
  },
  {
   "cell_type": "code",
   "execution_count": 11,
   "id": "6d5e4c43",
   "metadata": {},
   "outputs": [
    {
     "data": {
      "text/plain": [
       "3×150 OneHotMatrix(::Vector{UInt32}) with eltype Bool:\n",
       " 1  1  1  1  1  1  1  1  1  1  1  1  1  …  ⋅  ⋅  ⋅  ⋅  ⋅  ⋅  ⋅  ⋅  ⋅  ⋅  ⋅  ⋅\n",
       " ⋅  ⋅  ⋅  ⋅  ⋅  ⋅  ⋅  ⋅  ⋅  ⋅  ⋅  ⋅  ⋅     ⋅  ⋅  ⋅  ⋅  ⋅  ⋅  ⋅  ⋅  ⋅  ⋅  ⋅  ⋅\n",
       " ⋅  ⋅  ⋅  ⋅  ⋅  ⋅  ⋅  ⋅  ⋅  ⋅  ⋅  ⋅  ⋅     1  1  1  1  1  1  1  1  1  1  1  1"
      ]
     },
     "metadata": {},
     "output_type": "display_data"
    }
   ],
   "source": [
    "flux_y_onehot = onehotbatch(y, classes)"
   ]
  },
  {
   "cell_type": "code",
   "execution_count": 12,
   "id": "665ee71b",
   "metadata": {},
   "outputs": [
    {
     "data": {
      "text/plain": [
       "Chain(\n",
       "  Dense(4 => 100, relu),                \u001b[90m# 500 parameters\u001b[39m\n",
       "  Dense(100 => 20, relu),               \u001b[90m# 2_020 parameters\u001b[39m\n",
       "  Dense(20 => 3, relu),                 \u001b[90m# 63 parameters\u001b[39m\n",
       "  NNlib.softmax,\n",
       ") \u001b[90m                  # Total: 6 arrays, \u001b[39m2_583 parameters, 10.395 KiB."
      ]
     },
     "metadata": {},
     "output_type": "display_data"
    }
   ],
   "source": [
    "flux_model = Chain(Dense(4 => 100, relu),\n",
    "    Dense(100 => 20, relu),\n",
    "    Dense(20 => 3, relu),\n",
    "    softmax)\n"
   ]
  },
  {
   "cell_type": "code",
   "execution_count": 13,
   "id": "8e6b0c20",
   "metadata": {},
   "outputs": [],
   "source": [
    "function flux_loss(flux_model, features, labels_onehot)\n",
    "    ŷ = flux_model(features)\n",
    "    Flux.logitcrossentropy(ŷ, labels_onehot)\n",
    "end;"
   ]
  },
  {
   "cell_type": "code",
   "execution_count": 14,
   "id": "6b35ee6d",
   "metadata": {},
   "outputs": [
    {
     "data": {
      "text/plain": [
       "1.101367f0"
      ]
     },
     "metadata": {},
     "output_type": "display_data"
    }
   ],
   "source": [
    "flux_loss(flux_model, x, flux_y_onehot)"
   ]
  },
  {
   "cell_type": "code",
   "execution_count": 15,
   "id": "bd13014b",
   "metadata": {},
   "outputs": [],
   "source": [
    "flux_accuracy(x, y) = mean(Flux.onecold(flux_model(x), classes) .== y);"
   ]
  },
  {
   "cell_type": "code",
   "execution_count": 16,
   "id": "fea131e8",
   "metadata": {},
   "outputs": [],
   "source": [
    "function train_flux_model!(f_loss, model, features, labels_onehot)\n",
    "    dLdm, _, _ = gradient(f_loss, model, features, labels_onehot)\n",
    "    @. model[1].weight = model[1].weight - 0.1 * dLdm[:layers][1][:weight]\n",
    "    @. model[1].bias = model[1].bias - 0.1 * dLdm[:layers][1][:bias]\n",
    "end;"
   ]
  },
  {
   "cell_type": "code",
   "execution_count": 17,
   "id": "d96580ad",
   "metadata": {},
   "outputs": [],
   "source": [
    "for i = 1:500\n",
    "    train_flux_model!(flux_loss, flux_model, x, flux_y_onehot);\n",
    "    flux_accuracy(x, y) >= 0.98 && break\n",
    "end"
   ]
  },
  {
   "cell_type": "code",
   "execution_count": 18,
   "id": "2b2906b1",
   "metadata": {},
   "outputs": [
    {
     "name": "stdout",
     "output_type": "stream",
     "text": [
      "flux_accuracy(x, y) = 0.8333333333333334\n"
     ]
    }
   ],
   "source": [
    "@show flux_accuracy(x, y);"
   ]
  },
  {
   "cell_type": "code",
   "execution_count": 19,
   "id": "d07fbc7c",
   "metadata": {},
   "outputs": [
    {
     "data": {
      "text/plain": [
       "0.8960455f0"
      ]
     },
     "metadata": {},
     "output_type": "display_data"
    }
   ],
   "source": [
    "flux_loss(flux_model, x, flux_y_onehot)"
   ]
  },
  {
   "cell_type": "code",
   "execution_count": 20,
   "id": "e3d8e805",
   "metadata": {},
   "outputs": [
    {
     "name": "stdout",
     "output_type": "stream",
     "text": [
      "InlineStrings.String15[\"Iris-setosa\", \"Iris-versicolor\", \"Iris-setosa\", \"Iris-versicolor\", \"Iris-setosa\", \"Iris-setosa\", \"Iris-setosa\", \"Iris-setosa\", \"Iris-versicolor\", \"Iris-versicolor\", \"Iris-setosa\", \"Iris-versicolor\", \"Iris-versicolor\", \"Iris-setosa\", \"Iris-setosa\", \"Iris-setosa\", \"Iris-setosa\", \"Iris-setosa\", \"Iris-setosa\", \"Iris-setosa\", \"Iris-versicolor\", \"Iris-setosa\", \"Iris-setosa\", \"Iris-versicolor\", \"Iris-versicolor\", \"Iris-versicolor\", \"Iris-versicolor\", \"Iris-setosa\", \"Iris-setosa\", \"Iris-versicolor\", \"Iris-versicolor\", \"Iris-versicolor\", \"Iris-setosa\", \"Iris-setosa\", \"Iris-versicolor\", \"Iris-setosa\", \"Iris-setosa\", \"Iris-versicolor\", \"Iris-setosa\", \"Iris-setosa\", \"Iris-setosa\", \"Iris-versicolor\", \"Iris-setosa\", \"Iris-versicolor\", \"Iris-versicolor\", \"Iris-versicolor\", \"Iris-setosa\", \"Iris-setosa\", \"Iris-setosa\", \"Iris-setosa\", \"Iris-versicolor\", \"Iris-versicolor\", \"Iris-versicolor\", \"Iris-versicolor\", \"Iris-versicolor\", \"Iris-versicolor\", \"Iris-versicolor\", \"Iris-versicolor\", \"Iris-versicolor\", \"Iris-versicolor\", \"Iris-versicolor\", \"Iris-versicolor\", \"Iris-versicolor\", \"Iris-versicolor\", \"Iris-versicolor\", \"Iris-versicolor\", \"Iris-virginica\", \"Iris-versicolor\", \"Iris-versicolor\", \"Iris-versicolor\", \"Iris-virginica\", \"Iris-versicolor\", \"Iris-virginica\", \"Iris-versicolor\", \"Iris-versicolor\", \"Iris-versicolor\", \"Iris-versicolor\", \"Iris-versicolor\", \"Iris-versicolor\", \"Iris-versicolor\", \"Iris-versicolor\", \"Iris-versicolor\", \"Iris-versicolor\", \"Iris-virginica\", \"Iris-virginica\", \"Iris-versicolor\", \"Iris-versicolor\", \"Iris-versicolor\", \"Iris-versicolor\", \"Iris-versicolor\", \"Iris-versicolor\", \"Iris-versicolor\", \"Iris-versicolor\", \"Iris-versicolor\", \"Iris-versicolor\", \"Iris-versicolor\", \"Iris-versicolor\", \"Iris-versicolor\", \"Iris-versicolor\", \"Iris-versicolor\", \"Iris-virginica\", \"Iris-virginica\", \"Iris-virginica\", \"Iris-virginica\", \"Iris-virginica\", \"Iris-virginica\", \"Iris-virginica\", \"Iris-virginica\", \"Iris-virginica\", \"Iris-virginica\", \"Iris-virginica\", \"Iris-virginica\", \"Iris-virginica\", \"Iris-virginica\", \"Iris-virginica\", \"Iris-virginica\", \"Iris-virginica\", \"Iris-virginica\", \"Iris-virginica\", \"Iris-virginica\", \"Iris-virginica\", \"Iris-virginica\", \"Iris-virginica\", \"Iris-virginica\", \"Iris-virginica\", \"Iris-virginica\", \"Iris-virginica\", \"Iris-virginica\", \"Iris-virginica\", \"Iris-virginica\", \"Iris-virginica\", \"Iris-virginica\", \"Iris-virginica\", \"Iris-virginica\", \"Iris-virginica\", \"Iris-virginica\", \"Iris-virginica\", \"Iris-virginica\", \"Iris-virginica\", \"Iris-virginica\", \"Iris-virginica\", \"Iris-virginica\", \"Iris-virginica\", \"Iris-virginica\", \"Iris-virginica\", \"Iris-virginica\", \"Iris-virginica\", \"Iris-virginica\", \"Iris-virginica\", \"Iris-virginica\"]\n"
     ]
    }
   ],
   "source": [
    "println(Flux.onecold(flux_model(x), classes))"
   ]
  },
  {
   "cell_type": "code",
   "execution_count": 21,
   "id": "dd5d991c",
   "metadata": {},
   "outputs": [
    {
     "data": {
      "text/plain": [
       "150-element Vector{InlineStrings.String15}:\n",
       " \"Iris-setosa\"\n",
       " \"Iris-setosa\"\n",
       " \"Iris-setosa\"\n",
       " \"Iris-setosa\"\n",
       " \"Iris-setosa\"\n",
       " \"Iris-setosa\"\n",
       " \"Iris-setosa\"\n",
       " \"Iris-setosa\"\n",
       " \"Iris-setosa\"\n",
       " \"Iris-setosa\"\n",
       " ⋮\n",
       " \"Iris-virginica\"\n",
       " \"Iris-virginica\"\n",
       " \"Iris-virginica\"\n",
       " \"Iris-virginica\"\n",
       " \"Iris-virginica\"\n",
       " \"Iris-virginica\"\n",
       " \"Iris-virginica\"\n",
       " \"Iris-virginica\"\n",
       " \"Iris-virginica\""
      ]
     },
     "metadata": {},
     "output_type": "display_data"
    }
   ],
   "source": [
    "y"
   ]
  },
  {
   "cell_type": "code",
   "execution_count": 22,
   "id": "bf78f5a8",
   "metadata": {},
   "outputs": [],
   "source": []
  }
 ],
 "metadata": {
  "kernelspec": {
   "display_name": "Julia 1.11.6",
   "language": "julia",
   "name": "julia-1.11"
  },
  "language_info": {
   "file_extension": ".jl",
   "mimetype": "application/julia",
   "name": "julia",
   "version": "1.11.6"
  }
 },
 "nbformat": 4,
 "nbformat_minor": 5
}
