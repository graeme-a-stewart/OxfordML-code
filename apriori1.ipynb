{
 "cells": [
  {
   "cell_type": "markdown",
   "id": "17dd420f",
   "metadata": {},
   "source": [
    "# Apriori Example 1\n",
    "\n",
    "This is a notebook that works through the Apriori Algorithm for example 1.\n",
    "\n",
    "Primitive functions are defined here, so that the algorithm can be stepped though. This is not computationally efficient, but it's good for illustrating better the algorithmic steps.\n",
    "\n",
    "The algorithm flow is the following:\n",
    "\n",
    "- For each level `N` generate all pairwise combinations of sets from level `N-1` that are size `N` (`generate_combinations`)\n",
    "    - For Level 1, take the set of all single items as one member sets\n",
    "- For all the combinations, test if there is sufficient *support* in the target combinations (`test_membership` + `filter_membership`)\n",
    "- If any of the sets at `N-1` did not contribute to a surviving supported set at `N` it is an endpoint *final set* (`final_sets`)\n",
    "\n",
    "When the surviving combinations is an empty set stop. The union of all of the final sets is the final output."
   ]
  },
  {
   "cell_type": "code",
   "execution_count": null,
   "id": "5e4e5527",
   "metadata": {},
   "outputs": [
    {
     "data": {
      "text/plain": [
       "generate_combinations"
      ]
     },
     "metadata": {},
     "output_type": "display_data"
    }
   ],
   "source": [
    "\"\"\"\n",
    "    generate_combinations(source_sets, n)\n",
    "\n",
    "Generate all unique combinations of sets from `source_sets` that have exactly\n",
    "`n` elements when combined.\n",
    "\"\"\"\n",
    "function generate_combinations(source_sets, n)\n",
    "    combinations = Set{Set}()\n",
    "    for set1 in source_sets\n",
    "        for set2 in source_sets\n",
    "            if set1 != set2\n",
    "                combined = set1 ∪ set2\n",
    "                if length(combined) == n\n",
    "                    push!(combinations, combined)\n",
    "                end\n",
    "            end\n",
    "        end\n",
    "    end\n",
    "    combinations\n",
    "end"
   ]
  },
  {
   "cell_type": "code",
   "execution_count": null,
   "id": "9d41fee9",
   "metadata": {},
   "outputs": [
    {
     "data": {
      "text/plain": [
       "test_membership"
      ]
     },
     "metadata": {},
     "output_type": "display_data"
    }
   ],
   "source": [
    "\"\"\"\n",
    "    test_membership(test_sets, target_sets)\n",
    "\n",
    "Test the membership of a set of sets against another set of sets, returning the\n",
    "count of how many sets in the second set contain each set from the first set.\n",
    "\"\"\"\n",
    "function test_membership(test_sets, target_sets)\n",
    "    occurrences = Dict{Set, Int}()\n",
    "\n",
    "    for e in test_sets\n",
    "        count = 0\n",
    "        for x in target_sets\n",
    "            if e ⊆ x\n",
    "                count += 1\n",
    "            end\n",
    "        end\n",
    "        occurrences[e] = count\n",
    "    end\n",
    "    occurrences\n",
    "end"
   ]
  },
  {
   "cell_type": "code",
   "execution_count": null,
   "id": "e009ce92",
   "metadata": {},
   "outputs": [
    {
     "data": {
      "text/plain": [
       "filter_membership"
      ]
     },
     "metadata": {},
     "output_type": "display_data"
    }
   ],
   "source": [
    "\"\"\"\n",
    "    filter_membership(occurrences, threshold)\n",
    "\n",
    "Filter the occurrences dictionary of {sets, occurrences} to return only those\n",
    "sets that have a count greater than or equal to the threshold.\n",
    "\n",
    "The return value is a set of sets that meet the threshold criteria.\n",
    "\"\"\"\n",
    "function filter_membership(occurrences, threshold)\n",
    "    passed = Set()\n",
    "    for (k, v) in occurrences\n",
    "        if v >= threshold\n",
    "            push!(passed, k)\n",
    "        end\n",
    "    end\n",
    "    return passed\n",
    "end"
   ]
  },
  {
   "cell_type": "code",
   "execution_count": null,
   "id": "63d726cd",
   "metadata": {},
   "outputs": [
    {
     "data": {
      "text/plain": [
       "final_sets"
      ]
     },
     "metadata": {},
     "output_type": "display_data"
    }
   ],
   "source": [
    "\"\"\"\n",
    "    final_sets(source_sets, combined_sets)\n",
    "\n",
    "Return the final sets from `source_sets` that are not contained in any of the\n",
    "sets in `combined_sets`.\n",
    "\n",
    "This is used to find \"final\" sets that did not generate any supported subsets at\n",
    "the next level.\n",
    "\"\"\"\n",
    "function final_sets(source_sets, combined_sets)\n",
    "    final = Set{Set}()\n",
    "    for set1 in source_sets\n",
    "        contained = false\n",
    "        for set2 in combined_sets\n",
    "            if set1 ⊆ set2\n",
    "                contained = true\n",
    "                break\n",
    "            end\n",
    "        end\n",
    "        if !contained\n",
    "            push!(final, set1)\n",
    "        end\n",
    "    end\n",
    "    return final\n",
    "end"
   ]
  },
  {
   "cell_type": "markdown",
   "id": "0cc07dfc",
   "metadata": {},
   "source": [
    "We use integers to represent the elements $i_n$, here for $n \\in 1, 2, \\dots 6$. Set $S$ is generated."
   ]
  },
  {
   "cell_type": "code",
   "execution_count": 5,
   "id": "34c42776",
   "metadata": {},
   "outputs": [],
   "source": [
    "S = Set()\n",
    "for i ∈ 1:6\n",
    "    push!(S, Set([i]))\n",
    "end"
   ]
  },
  {
   "cell_type": "markdown",
   "id": "007d1566",
   "metadata": {},
   "source": [
    "$X$ is the set of all observation sets that we are interested in."
   ]
  },
  {
   "cell_type": "code",
   "execution_count": 6,
   "id": "c6bf9f94",
   "metadata": {},
   "outputs": [
    {
     "data": {
      "text/plain": [
       "Set{Set{Int64}} with 5 elements:\n",
       "  Set([5, 2, 3, 1])\n",
       "  Set([4, 2, 3, 1])\n",
       "  Set([5, 6, 2, 3])\n",
       "  Set([5, 4, 6, 3])\n",
       "  Set([5, 6, 2, 1])"
      ]
     },
     "metadata": {},
     "output_type": "display_data"
    }
   ],
   "source": [
    "X = Set([Set([1, 2, 3, 4]), Set([1, 2, 3, 5]), Set([1, 2, 5, 6]), Set([2, 3, 5, 6]), Set([3, 4, 5, 6])])"
   ]
  },
  {
   "cell_type": "markdown",
   "id": "ae2a3bc3",
   "metadata": {},
   "source": [
    "This is the required level of support for subsets as an integer count. $\\epsilon$ is this number divided by the number of sets in $X$. i.e., $\\epsilon = 2/5$."
   ]
  },
  {
   "cell_type": "code",
   "execution_count": 7,
   "id": "ee1774f5",
   "metadata": {},
   "outputs": [
    {
     "data": {
      "text/plain": [
       "2"
      ]
     },
     "metadata": {},
     "output_type": "display_data"
    }
   ],
   "source": [
    "support = 2"
   ]
  },
  {
   "cell_type": "markdown",
   "id": "468512c6",
   "metadata": {},
   "source": [
    "Level 1 sets are just a copy of $S$..."
   ]
  },
  {
   "cell_type": "code",
   "execution_count": 8,
   "id": "94021674",
   "metadata": {},
   "outputs": [
    {
     "data": {
      "text/plain": [
       "Set{Any} with 6 elements:\n",
       "  Set([3])\n",
       "  Set([5])\n",
       "  Set([1])\n",
       "  Set([6])\n",
       "  Set([2])\n",
       "  Set([4])"
      ]
     },
     "metadata": {},
     "output_type": "display_data"
    }
   ],
   "source": [
    "L1=copy(S)"
   ]
  },
  {
   "cell_type": "markdown",
   "id": "f34ea67b",
   "metadata": {},
   "source": [
    "Generate L2 candidates, from all L1 pair combinations"
   ]
  },
  {
   "cell_type": "code",
   "execution_count": 9,
   "id": "8fab4cae",
   "metadata": {},
   "outputs": [
    {
     "data": {
      "text/plain": [
       "Set{Set} with 15 elements:\n",
       "  Set([5, 1])\n",
       "  Set([2, 3])\n",
       "  Set([6, 2])\n",
       "  Set([5, 6])\n",
       "  Set([4, 2])\n",
       "  Set([4, 1])\n",
       "  Set([2, 1])\n",
       "  Set([4, 3])\n",
       "  Set([6, 1])\n",
       "  Set([5, 3])\n",
       "  Set([3, 1])\n",
       "  Set([6, 3])\n",
       "  Set([4, 6])\n",
       "  Set([5, 4])\n",
       "  Set([5, 2])"
      ]
     },
     "metadata": {},
     "output_type": "display_data"
    }
   ],
   "source": [
    "L2_candidates = generate_combinations(L1, 2)"
   ]
  },
  {
   "cell_type": "markdown",
   "id": "8c0f1428",
   "metadata": {},
   "source": [
    "Filter the candidates against the support level we require"
   ]
  },
  {
   "cell_type": "code",
   "execution_count": 10,
   "id": "3840760d",
   "metadata": {},
   "outputs": [
    {
     "data": {
      "text/plain": [
       "Set{Any} with 10 elements:\n",
       "  Set([5, 3])\n",
       "  Set([4, 3])\n",
       "  Set([5, 1])\n",
       "  Set([3, 1])\n",
       "  Set([6, 3])\n",
       "  Set([2, 3])\n",
       "  Set([6, 2])\n",
       "  Set([5, 6])\n",
       "  Set([2, 1])\n",
       "  Set([5, 2])"
      ]
     },
     "metadata": {},
     "output_type": "display_data"
    }
   ],
   "source": [
    "L2 = filter_membership(test_membership(L2_candidates, X), support)"
   ]
  },
  {
   "cell_type": "markdown",
   "id": "7dbb220e",
   "metadata": {},
   "source": [
    "Same for L3, take the L2 combinations and then filter by those with sufficient support"
   ]
  },
  {
   "cell_type": "code",
   "execution_count": 11,
   "id": "e60f9a92",
   "metadata": {},
   "outputs": [
    {
     "data": {
      "text/plain": [
       "Set{Set} with 14 elements:\n",
       "  Set([6, 2, 1])\n",
       "  Set([5, 2, 3])\n",
       "  Set([6, 2, 3])\n",
       "  Set([4, 6, 3])\n",
       "  Set([6, 3, 1])\n",
       "  Set([2, 3, 1])\n",
       "  Set([5, 6, 1])\n",
       "  Set([4, 2, 3])\n",
       "  Set([5, 6, 3])\n",
       "  Set([4, 3, 1])\n",
       "  Set([5, 3, 1])\n",
       "  Set([5, 2, 1])\n",
       "  Set([5, 6, 2])\n",
       "  Set([5, 4, 3])"
      ]
     },
     "metadata": {},
     "output_type": "display_data"
    }
   ],
   "source": [
    "L3_candidates = generate_combinations(L2, 3)"
   ]
  },
  {
   "cell_type": "code",
   "execution_count": 12,
   "id": "110c3801",
   "metadata": {},
   "outputs": [
    {
     "data": {
      "text/plain": [
       "Set{Any} with 5 elements:\n",
       "  Set([5, 6, 2])\n",
       "  Set([5, 2, 3])\n",
       "  Set([2, 3, 1])\n",
       "  Set([5, 2, 1])\n",
       "  Set([5, 6, 3])"
      ]
     },
     "metadata": {},
     "output_type": "display_data"
    }
   ],
   "source": [
    "L3 = filter_membership(test_membership(L3_candidates, X), support)"
   ]
  },
  {
   "cell_type": "code",
   "execution_count": 13,
   "id": "884ed5ca",
   "metadata": {},
   "outputs": [
    {
     "data": {
      "text/plain": [
       "Set{Set} with 3 elements:\n",
       "  Set([5, 2, 3, 1])\n",
       "  Set([5, 6, 2, 3])\n",
       "  Set([5, 6, 2, 1])"
      ]
     },
     "metadata": {},
     "output_type": "display_data"
    }
   ],
   "source": [
    "L4_candidates = generate_combinations(L3, 4)"
   ]
  },
  {
   "cell_type": "code",
   "execution_count": 14,
   "id": "082d1d16",
   "metadata": {},
   "outputs": [
    {
     "data": {
      "text/plain": [
       "Set{Any}()"
      ]
     },
     "metadata": {},
     "output_type": "display_data"
    }
   ],
   "source": [
    "L4 = filter_membership(test_membership(L4_candidates, X), support)"
   ]
  },
  {
   "cell_type": "markdown",
   "id": "9413b768",
   "metadata": {},
   "source": [
    "Now we have nothing left to try, so we can go back and pop the number of final sets at steps 2 and 3 for the answer"
   ]
  },
  {
   "cell_type": "code",
   "execution_count": 17,
   "id": "4f4f3ec7",
   "metadata": {},
   "outputs": [
    {
     "data": {
      "text/plain": [
       "Set{Set} with 6 elements:\n",
       "  Set([5, 6, 2])\n",
       "  Set([4, 3])\n",
       "  Set([5, 2, 3])\n",
       "  Set([2, 3, 1])\n",
       "  Set([5, 2, 1])\n",
       "  Set([5, 6, 3])"
      ]
     },
     "metadata": {},
     "output_type": "display_data"
    }
   ],
   "source": [
    "answer = final_sets(L2, L3) ∪ final_sets(L3, L4)"
   ]
  }
 ],
 "metadata": {
  "kernelspec": {
   "display_name": "Julia 1.11.5",
   "language": "julia",
   "name": "julia-1.11"
  },
  "language_info": {
   "file_extension": ".jl",
   "mimetype": "application/julia",
   "name": "julia",
   "version": "1.11.5"
  }
 },
 "nbformat": 4,
 "nbformat_minor": 5
}
