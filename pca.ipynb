{
 "cells": [
  {
   "cell_type": "markdown",
   "id": "a29e0a49",
   "metadata": {},
   "source": [
    "# Principle Component Analysis\n",
    "\n",
    "A small notebook that exercises PCA.\n",
    "\n",
    "Done for the Oxford ML course."
   ]
  },
  {
   "cell_type": "code",
   "execution_count": 1,
   "id": "aa58ef37",
   "metadata": {},
   "outputs": [],
   "source": [
    "using LinearAlgebra\n",
    "using Statistics"
   ]
  },
  {
   "cell_type": "markdown",
   "id": "ff061980",
   "metadata": {},
   "source": [
    "## Initial small example"
   ]
  },
  {
   "cell_type": "code",
   "execution_count": 2,
   "id": "678a400f",
   "metadata": {},
   "outputs": [
    {
     "data": {
      "text/plain": [
       "2×2 Matrix{Int64}:\n",
       " 1  1\n",
       " 1  1"
      ]
     },
     "metadata": {},
     "output_type": "display_data"
    }
   ],
   "source": [
    "M = [1 1; 1 1]"
   ]
  },
  {
   "cell_type": "code",
   "execution_count": 3,
   "id": "328a25bc",
   "metadata": {},
   "outputs": [
    {
     "data": {
      "text/plain": [
       "2-element Vector{Float64}:\n",
       " 0.0\n",
       " 2.0"
      ]
     },
     "metadata": {},
     "output_type": "display_data"
    }
   ],
   "source": [
    "eigvals(M)"
   ]
  },
  {
   "cell_type": "code",
   "execution_count": 4,
   "id": "57779a3e",
   "metadata": {},
   "outputs": [
    {
     "data": {
      "text/plain": [
       "2×2 Matrix{Float64}:\n",
       " -0.707107  0.707107\n",
       "  0.707107  0.707107"
      ]
     },
     "metadata": {},
     "output_type": "display_data"
    }
   ],
   "source": [
    "eigvecs(M)"
   ]
  },
  {
   "cell_type": "markdown",
   "id": "27d8fd26",
   "metadata": {},
   "source": [
    "## Animal Size Data"
   ]
  },
  {
   "cell_type": "code",
   "execution_count": 5,
   "id": "5cddb3bb",
   "metadata": {},
   "outputs": [
    {
     "data": {
      "text/plain": [
       "3×4 Matrix{Float64}:\n",
       "  8.3   9.1  4.0  11.5\n",
       "  3.7   5.1  1.0   6.7\n",
       " 10.3  12.3  5.2  14.2"
      ]
     },
     "metadata": {},
     "output_type": "display_data"
    }
   ],
   "source": [
    "A = [8.3 9.1 4.0 11.5; 3.7 5.1 1.0 6.7; 10.3 12.3 5.2 14.2]"
   ]
  },
  {
   "cell_type": "code",
   "execution_count": 6,
   "id": "e7d74e3f",
   "metadata": {},
   "outputs": [
    {
     "data": {
      "text/plain": [
       "4×4 Matrix{Float64}:\n",
       " 188.67  221.09   90.46  266.5\n",
       " 221.09  260.11  105.46  313.48\n",
       "  90.46  105.46   44.04  126.54\n",
       " 266.5   313.48  126.54  378.78"
      ]
     },
     "metadata": {},
     "output_type": "display_data"
    }
   ],
   "source": [
    "SA = A' * A"
   ]
  },
  {
   "cell_type": "code",
   "execution_count": 7,
   "id": "f240cc7e",
   "metadata": {},
   "outputs": [
    {
     "data": {
      "text/plain": [
       "4-element Vector{Float64}:\n",
       "  -1.1671165167121752e-14\n",
       "   0.29219181566468994\n",
       "   2.030482260246855\n",
       " 869.2773259240886"
      ]
     },
     "metadata": {},
     "output_type": "display_data"
    }
   ],
   "source": [
    "eigvals(SA)"
   ]
  },
  {
   "cell_type": "code",
   "execution_count": 8,
   "id": "336a3651",
   "metadata": {},
   "outputs": [
    {
     "data": {
      "text/plain": [
       "4×4 Matrix{Float64}:\n",
       "  0.689835   0.379794    0.404069   -0.465416\n",
       "  0.115457  -0.827826   -0.0488346  -0.546799\n",
       " -0.606347   0.0170623   0.763381   -0.222039\n",
       " -0.378339   0.412517   -0.50159    -0.659618"
      ]
     },
     "metadata": {},
     "output_type": "display_data"
    }
   ],
   "source": [
    "eigvecs(SA)"
   ]
  },
  {
   "cell_type": "markdown",
   "id": "db4ae31a",
   "metadata": {},
   "source": [
    "### Iterate towards eigenvectors by multiplication and renormalisation"
   ]
  },
  {
   "cell_type": "code",
   "execution_count": 9,
   "id": "68edf7ad",
   "metadata": {},
   "outputs": [
    {
     "data": {
      "text/plain": [
       "4-element Vector{Float64}:\n",
       " 0.46572260163976376\n",
       " 0.5467648458890038\n",
       " 0.22262016577234636\n",
       " 0.6592351048096248"
      ]
     },
     "metadata": {},
     "output_type": "display_data"
    }
   ],
   "source": [
    "v0 = [1,1,1,1]\n",
    "v0p = SA * v0\n",
    "v1 = v0p / sqrt(v0p'*v0p)"
   ]
  },
  {
   "cell_type": "code",
   "execution_count": 10,
   "id": "9024b761",
   "metadata": {},
   "outputs": [
    {
     "data": {
      "text/plain": [
       "4×4 Matrix{Float64}:\n",
       " 188.544  221.353   90.126   266.886\n",
       " 221.353  259.872  105.809   313.328\n",
       "  90.126  105.809   43.0812  127.574\n",
       " 266.886  313.328  127.574   377.78"
      ]
     },
     "metadata": {},
     "output_type": "display_data"
    }
   ],
   "source": [
    "(v1 * v1') * eigvals(SA)[4]"
   ]
  },
  {
   "cell_type": "markdown",
   "id": "77781e54",
   "metadata": {},
   "source": [
    "## Exercise Example 1\n",
    "\n",
    "Calculate principle eigenvector by repeated multiplication"
   ]
  },
  {
   "cell_type": "code",
   "execution_count": 11,
   "id": "83875ca9",
   "metadata": {},
   "outputs": [
    {
     "data": {
      "text/plain": [
       "3×3 Matrix{Float64}:\n",
       " 0.29  0.58  0.8\n",
       " 0.58  1.16  1.6\n",
       " 0.8   1.6   2.21"
      ]
     },
     "metadata": {},
     "output_type": "display_data"
    }
   ],
   "source": [
    "M1 = [0.29 0.58 0.8; 0.58 1.16 1.6; 0.8 1.6 2.21]"
   ]
  },
  {
   "cell_type": "code",
   "execution_count": 12,
   "id": "9f8370f2",
   "metadata": {},
   "outputs": [
    {
     "data": {
      "text/plain": [
       "3-element Vector{Float64}:\n",
       " 0.2814622663210985\n",
       " 0.562924532642197\n",
       " 0.7771067900790439"
      ]
     },
     "metadata": {},
     "output_type": "display_data"
    }
   ],
   "source": [
    "V0 = [1,1,1]\n",
    "V0p = M1 * V0\n",
    "V1 = V0p / sqrt(dot(V0p,V0p))\n",
    "V1p = M1 * V1\n",
    "V2 = V1p / sqrt(dot(V1p,V1p))\n",
    "V2p = M1 * V2\n",
    "V3 = V2p / sqrt(dot(V2p,V2p))"
   ]
  },
  {
   "cell_type": "markdown",
   "id": "1033901b",
   "metadata": {},
   "source": [
    "Find the eigenvalue by seeing how much the vector is scaled by"
   ]
  },
  {
   "cell_type": "code",
   "execution_count": 13,
   "id": "7d13dcd5",
   "metadata": {},
   "outputs": [
    {
     "data": {
      "text/plain": [
       "3.6587700784757935"
      ]
     },
     "metadata": {},
     "output_type": "display_data"
    }
   ],
   "source": [
    "EV1 = mean(M1 * V3 ./ V3)"
   ]
  },
  {
   "cell_type": "markdown",
   "id": "0bc1bf2d",
   "metadata": {},
   "source": [
    "Now reconstruct the original matrix"
   ]
  },
  {
   "cell_type": "code",
   "execution_count": 14,
   "id": "37055963",
   "metadata": {},
   "outputs": [
    {
     "data": {
      "text/plain": [
       "3×3 Matrix{Float64}:\n",
       " 0.289851  0.579703  0.800269\n",
       " 0.579703  1.15941   1.60054\n",
       " 0.800269  1.60054   2.20951"
      ]
     },
     "metadata": {},
     "output_type": "display_data"
    }
   ],
   "source": [
    "RecoM1 = (V3 * V3') * EV1"
   ]
  },
  {
   "cell_type": "markdown",
   "id": "c0555f76",
   "metadata": {},
   "source": [
    "How good is this?"
   ]
  },
  {
   "cell_type": "code",
   "execution_count": 15,
   "id": "5ef60691",
   "metadata": {},
   "outputs": [
    {
     "data": {
      "text/plain": [
       "3×3 Matrix{Float64}:\n",
       "  0.000512237   0.000512237  -0.00033627\n",
       "  0.000512237   0.000512237  -0.00033627\n",
       " -0.00033627   -0.00033627    0.000220443"
      ]
     },
     "metadata": {},
     "output_type": "display_data"
    }
   ],
   "source": [
    "reldiff = (M1 .- RecoM1) ./ M1"
   ]
  },
  {
   "cell_type": "code",
   "execution_count": 16,
   "id": "bc2e2149",
   "metadata": {},
   "outputs": [
    {
     "data": {
      "text/plain": [
       "0.00013835236540607755"
      ]
     },
     "metadata": {},
     "output_type": "display_data"
    }
   ],
   "source": [
    "rms = sqrt(mean(reldiff .* reldiff) / prod(size(reldiff)))"
   ]
  }
 ],
 "metadata": {
  "kernelspec": {
   "display_name": "Julia 1.11.5",
   "language": "julia",
   "name": "julia-1.11"
  },
  "language_info": {
   "file_extension": ".jl",
   "mimetype": "application/julia",
   "name": "julia",
   "version": "1.11.5"
  }
 },
 "nbformat": 4,
 "nbformat_minor": 5
}
